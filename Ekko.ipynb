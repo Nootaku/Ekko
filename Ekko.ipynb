{
 "cells": [
  {
   "cell_type": "markdown",
   "metadata": {},
   "source": [
    "# Ekko\n",
    "Ekko is an app that analyzes soundwaves from any audio input and returns a tablature or score of the notes or chords being played on the sample.\n",
    "\n",
    "[https://musicinformationretrieval.com/index.html](https://musicinformationretrieval.com/index.html)\n",
    "\n",
    "## Process\n",
    "The process of Ekko is very similar to what is happening to a Tuner.<br>\n",
    "The soundwave's frequency is analyzed and transformed into a musical note. The succession of notes, however is being recorded and transcribed as a tablature or a score.\n",
    "\n",
    "## Requirements\n",
    "- [`pydub`](http://pydub.com/): For audio format conversion to .wav\n",
    "- [`wave`](https://docs.python.org/3/library/wave.html): For .wav analysis and reading\n",
    "- [`numpy`](https://numpy.org/): For calculations of frequencies\n",
    "- [`kord`](https://pypi.org/project/kord/): For the music notation\n",
    "- pyaudio ?\n",
    "\n",
    "\n",
    "This documentation needs to be updated as the project takes shape.\n",
    "\n",
    "[good link](https://www.youtube.com/watch?v=at2NppqIZok)"
   ]
  },
  {
   "cell_type": "markdown",
   "metadata": {},
   "source": [
    "## Test: open file as binary\n",
    "The basic idea is to open a \"*.wav*\" file as a regular file with:\n",
    "```python\n",
    "with open(song_path, \"r\") as file:\n",
    "    print(file.read())\n",
    "```\n",
    "\n",
    "### Results\n",
    "Reading the file with option \"r\" results in `UnicodeDecodeError: 'utf-8' codec can't decode byte 0x88 in position 4: invalid start byte`.\n",
    "\n",
    "Reading the file with option \"rb\" results in `IOPub data rate exceeded.`\n",
    "\n",
    "This means we need a real means of reading the file."
   ]
  },
  {
   "cell_type": "markdown",
   "metadata": {},
   "source": [
    "## Specifics of Sound Processing\n",
    "All audio formats (`mp3`, `wav`, `flac`, ...) have a standard mesure of ***frequency*** mesured in `kHz`. The frequency can also be called ***sample rate***. The frequency represents the amount of *\"packages*\" per second that are used to represent our sound."
   ]
  },
  {
   "cell_type": "code",
   "execution_count": 1,
   "metadata": {},
   "outputs": [],
   "source": [
    "import sys\n",
    "import wave\n",
    "import audioop\n",
    "import numpy as np\n",
    "import matplotlib.pyplot as plt"
   ]
  },
  {
   "cell_type": "code",
   "execution_count": 2,
   "metadata": {},
   "outputs": [],
   "source": [
    "# Variables\n",
    "\n",
    "a_path = \"440khz.wav\"\n",
    "song_path = \"doremi.wav\""
   ]
  },
  {
   "cell_type": "code",
   "execution_count": 3,
   "metadata": {},
   "outputs": [],
   "source": [
    "def convertSongExtension(song):\n",
    "    if song.endswith(\".mp3\"):\n",
    "        original_song = AudioSegment.from_mp3(song)\n",
    "    \n",
    "    if song.endswith(\".aac\"):\n",
    "        original_song = AudioSegment.from_aac(song)\n",
    "\n",
    "    if song.endswith(\".ogg\"):\n",
    "        original_song = AudioSegment.from_ogg(song)\n",
    "    \n",
    "    if song.endswith(\".mp4\"):\n",
    "        original_song = AudioSegment.from_mp4(song)\n",
    "    \n",
    "    original_song.export(\"working.wav\", format=\"wav\")\n",
    "    \n",
    "    return \"working.wav\"\n"
   ]
  },
  {
   "cell_type": "code",
   "execution_count": 4,
   "metadata": {},
   "outputs": [
    {
     "name": "stdout",
     "output_type": "stream",
     "text": [
      "Framerate:  44100\n",
      "Total Samples:  237913\n",
      "b''\n"
     ]
    }
   ],
   "source": [
    "song = song_path if song_path.endswith(\".wav\") else convertSongExtension(song_path)\n",
    "\n",
    "with wave.open(song) as wav:\n",
    "    wav_byte = wav.readframes(-1)\n",
    "    int_wav_byte = np.frombuffer(wav_byte, dtype=\"int16\")\n",
    "    print(\"Framerate: \", wav.getframerate())\n",
    "    print(\"Total Samples: \", wav.getnframes())\n",
    "    print(wav.readframes(10000))"
   ]
  },
  {
   "cell_type": "code",
   "execution_count": 15,
   "metadata": {},
   "outputs": [
    {
     "name": "stdout",
     "output_type": "stream",
     "text": [
      "-8.364625\n"
     ]
    }
   ],
   "source": [
    "x = 0\n",
    "l = []\n",
    "for i in int_wav_byte:\n",
    "    if i != 0 and x < 8000:\n",
    "        l.append(i)\n",
    "        x += 1\n",
    "\n",
    "print(sum(l)/len(l))"
   ]
  },
  {
   "cell_type": "markdown",
   "metadata": {},
   "source": [
    "## Graphing a soundwave"
   ]
  },
  {
   "cell_type": "code",
   "execution_count": 12,
   "metadata": {},
   "outputs": [
    {
     "name": "stderr",
     "output_type": "stream",
     "text": [
      "/home/nootaku/miniconda3/envs/jupyter/lib/python3.7/site-packages/ipykernel_launcher.py:5: DeprecationWarning: Numeric-style type codes are deprecated and will result in an error in the future.\n",
      "  \"\"\"\n"
     ]
    },
    {
     "data": {
      "image/png": "[encoded data removed]",
      "text/plain": [
       "<Figure size 432x288 with 1 Axes>"
      ]
     },
     "metadata": {
      "needs_background": "light"
     },
     "output_type": "display_data"
    }
   ],
   "source": [
    "with wave.open(song_path, \"rb\") as file:\n",
    "    # return byte-object of all the frames of the audio file (-1 = all frames)\n",
    "    raw_audio = file.readframes(-1)\n",
    "    # return an array of the byte-object\n",
    "    array_raw_audio = np.frombuffer(raw_audio, \"Int16\") # .wav is incoded with 16 bits per sample (hence the \"Int16\" argument)\n",
    "    \n",
    "    # Exit if wav is stereo\n",
    "    if file.getnchannels() == 2:\n",
    "        print(\"Stereo File detected. Use mono File\")\n",
    "        sys.exit(0)\n",
    "    \n",
    "    # Get time instead of Frames\n",
    "    sample_rate = file.getframerate()\n",
    "    time = np.linspace(0, len(array_raw_audio) / sample_rate, num=len(array_raw_audio))\n",
    "    \n",
    "    # Plot\n",
    "    plt.title(\"File Graph\")\n",
    "    plt.plot(time, array_raw_audio, color=\"blue\")\n",
    "    plt.xlabel(\"Time (sec)\")\n",
    "    plt.ylabel(\"Frequency\")\n",
    "    plt.show()"
   ]
  },
  {
   "cell_type": "code",
   "execution_count": null,
   "metadata": {},
   "outputs": [],
   "source": [
    "notes = {\n",
    "    \"a\": [27.5, 55.00, 110.00, 220.00, 440.00, 880.00, 1760.00, 3520.00, 7040.00],\n",
    "    \"b\": [30.87, 61.74, 123.47, 246.94, 493.88, 987.77, 1975.53, 3951.07, 7902.13],\n",
    "    \"c\": [16.35, 32.70, 65.41, 130.81, 261.63, 523.25, 1046.50, 2093.00, 4186.01],\n",
    "    \"d\": [18.35, 36.71, 73.42, 146.83, 293.66, 587.33, 1174.66, 2349.32, 4698.63],\n",
    "    \"e\": [20.60, 41.20, 82.41, 164.81, 329.63, 659.25, 1318.51, 2637.02, 5274.04],\n",
    "    \"f\": [21.83, 43.65, 87.31, 174.61, 349.23, 698.46, 1396.91, 2793.83, 5587.65],\n",
    "    \"g\": [24.50, 49.00, 98.00, 196.00, 392.00, 783.99, 1567.98, 3135.96, 6271.93],\n",
    "}"
   ]
  },
  {
   "cell_type": "code",
   "execution_count": null,
   "metadata": {},
   "outputs": [],
   "source": []
  },
  {
   "cell_type": "code",
   "execution_count": null,
   "metadata": {},
   "outputs": [],
   "source": []
  }
 ],
 "metadata": {
  "kernelspec": {
   "display_name": "Python 3",
   "language": "python",
   "name": "python3"
  },
  "language_info": {
   "codemirror_mode": {
    "name": "ipython",
    "version": 3
   },
   "file_extension": ".py",
   "mimetype": "text/x-python",
   "name": "python",
   "nbconvert_exporter": "python",
   "pygments_lexer": "ipython3",
   "version": "3.8.5"
  }
 },
 "nbformat": 4,
 "nbformat_minor": 4
}
