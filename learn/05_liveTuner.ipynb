{
 "cells": [
  {
   "cell_type": "markdown",
   "metadata": {},
   "source": [
    "# Building a live tuner"
   ]
  },
  {
   "cell_type": "markdown",
   "metadata": {},
   "source": [
    "We will now build a live tuner using the information that we have seen so far.\n",
    "\n",
    "However there is one part of the program that we are not familiar with yet:<br>\n",
    "*The direct input of audio*"
   ]
  },
  {
   "cell_type": "markdown",
   "metadata": {},
   "source": [
    "## Step 1: Get a live-stream (in - out)\n",
    "Obviously we will need to be able to record from our computer's default sound input device and output the sound simultaniously using the computer's default sound output device.\n",
    "\n",
    "To do this we will use the [`python-sounddevice`](https://python-sounddevice.readthedocs.io/en/0.4.1/) module, and more specifically the [Stream](https://python-sounddevice.readthedocs.io/en/0.4.1/api/streams.html?highlight=Stream#streams-using-numpy-arrays) methods.\n",
    "\n",
    "> *sources:*\n",
    "> - *[youtube: Audio spectrum analyszer](https://www.youtube.com/watch?v=AShHJdSIxkY)*\n",
    "> - *[Speeding up Matplotlib](https://bastibe.de/2013-05-30-speeding-up-matplotlib.html)*"
   ]
  },
  {
   "cell_type": "code",
   "execution_count": 11,
   "metadata": {},
   "outputs": [],
   "source": [
    "import numpy as np\n",
    "import sounddevice as sd\n",
    "import matplotlib.pyplot as plt\n",
    "\n",
    "%matplotlib tk\n",
    "\n",
    "blocksize = 1024 * 4"
   ]
  },
  {
   "cell_type": "code",
   "execution_count": 2,
   "metadata": {},
   "outputs": [],
   "source": [
    "def playAudio(in_data, out_data, frames, time, status):\n",
    "    \"\"\"Callback function of the getAudio() functions\n",
    "    \"\"\"\n",
    "    out_data[:] = in_data    \n",
    "    \n",
    "def getAudio(sr=44100):\n",
    "    \"\"\"Access Audio input\n",
    "    \"\"\"\n",
    "    with sd.Stream(\n",
    "        samplerate=sr,\n",
    "        blocksize=blocksize,\n",
    "        device=None,\n",
    "        channels=None,\n",
    "        dtype=None,\n",
    "        latency=None,\n",
    "        extra_settings=None,\n",
    "        callback=playAudio,\n",
    "        finished_callback=None,\n",
    "        clip_off=None,\n",
    "        dither_off=None,\n",
    "        never_drop_input=None,\n",
    "        prime_output_buffers_using_stream_callback=None\n",
    "    ):\n",
    "        print(\"Press 'Enter' key to stop\")\n",
    "        input()"
   ]
  },
  {
   "cell_type": "code",
   "execution_count": 3,
   "metadata": {},
   "outputs": [
    {
     "name": "stdout",
     "output_type": "stream",
     "text": [
      "Press 'Enter' key to stop\n"
     ]
    },
    {
     "name": "stdin",
     "output_type": "stream",
     "text": [
      " \n"
     ]
    }
   ],
   "source": [
    "try:\n",
    "    getAudio()\n",
    "except KeyboardInterrupt:\n",
    "    parser.exit('')"
   ]
  },
  {
   "cell_type": "markdown",
   "metadata": {},
   "source": [
    "## Step 2: Get a live graph"
   ]
  },
  {
   "cell_type": "markdown",
   "metadata": {},
   "source": [
    "The main problem that we have with graphing live audio is that matplotlib is plotting a fixed array of values. This means that we have multiple solutions at our disposal:\n",
    "1. Creating a graph with a buffer-size of n. Destroy it and recreating it with the next buffer\n",
    "2. Creating a graph with n items and updating the graph for each buffer\n",
    "3. Creating a graph with n items and for each piece of input information, slide the nth item to `itemList[n-1]` replacing the value of the nth item with `n+1`.\n",
    "\n",
    "To do any of these methods we need a buffer, or a queue.\n",
    "\n",
    "Luckily, python has a built-in module called `queue`. Its main class is the `queue.Queue()` class and allows us to create a simple FIFO quye type.\n",
    "\n",
    "Now have a look at the Tuner directory to see how it is made."
   ]
  },
  {
   "cell_type": "markdown",
   "metadata": {},
   "source": [
    "Please note how in the main function (graphAudio), the callback for the Audio Stream is only creating an array of data and nothing else.\n",
    "\n",
    "It is a separate Animation function called [`FuncAnimation()`](https://matplotlib.org/stable/api/_as_gen/matplotlib.animation.FuncAnimation.html) that updates the matplotlib graph."
   ]
  }
 ],
 "metadata": {
  "kernelspec": {
   "display_name": "Python 3",
   "language": "python",
   "name": "python3"
  },
  "language_info": {
   "codemirror_mode": {
    "name": "ipython",
    "version": 3
   },
   "file_extension": ".py",
   "mimetype": "text/x-python",
   "name": "python",
   "nbconvert_exporter": "python",
   "pygments_lexer": "ipython3",
   "version": "3.8.5"
  }
 },
 "nbformat": 4,
 "nbformat_minor": 4
}
