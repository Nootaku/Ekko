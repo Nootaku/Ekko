{
 "cells": [
  {
   "cell_type": "markdown",
   "metadata": {},
   "source": [
    "# Audio Features"
   ]
  },
  {
   "cell_type": "markdown",
   "metadata": {},
   "source": [
    "In this notebook, we will try to extract features from audio files.\n",
    "\n",
    "Previously we managed to create functions that detect the frequency of a note. Afterwards, we analyzed the Tuning methods and finally, we created a quick proof of concept that allowed us to tune a Guitar / Bass directly with a direct I/O.\n",
    "\n",
    "Now we want to go further.<br>\n",
    "As a reminder, we want to build a program that allows us to write a score from any audio file. Let us imagine that we only have one instrument. How can we define when a note starts and when it ends ?\n",
    "\n",
    "If we can define when notes start and end, can we calculate a Tempo (or BPM) based on that information ?\n",
    "\n",
    "Finally, would it be possible to have multiple instruments and to define the score of one instrument based on the timber of the sound ?"
   ]
  },
  {
   "cell_type": "code",
   "execution_count": null,
   "metadata": {},
   "outputs": [],
   "source": []
  }
 ],
 "metadata": {
  "kernelspec": {
   "display_name": "Python 3",
   "language": "python",
   "name": "python3"
  },
  "language_info": {
   "codemirror_mode": {
    "name": "ipython",
    "version": 3
   },
   "file_extension": ".py",
   "mimetype": "text/x-python",
   "name": "python",
   "nbconvert_exporter": "python",
   "pygments_lexer": "ipython3",
   "version": "3.8.5"
  }
 },
 "nbformat": 4,
 "nbformat_minor": 4
}
